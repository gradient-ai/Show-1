{
 "cells": [
  {
   "cell_type": "markdown",
   "id": "c634714a-5d6f-426c-890f-a0d1c1b0adeb",
   "metadata": {},
   "source": [
    "# Install required libraries"
   ]
  },
  {
   "cell_type": "code",
   "execution_count": null,
   "id": "c0c6271a-24d5-426a-a520-ca7146474051",
   "metadata": {
    "execution": {
     "iopub.execute_input": "2023-10-27T19:31:23.407756Z",
     "iopub.status.busy": "2023-10-27T19:31:23.407460Z",
     "iopub.status.idle": "2023-10-27T19:31:35.817360Z",
     "shell.execute_reply": "2023-10-27T19:31:35.816356Z",
     "shell.execute_reply.started": "2023-10-27T19:31:23.407730Z"
    }
   },
   "outputs": [],
   "source": [
    "!pip install -U transformers accelerate torchvision gradio\n",
    "!pip install -r requirements.txt\n"
   ]
  },
  {
   "cell_type": "markdown",
   "id": "0ebd555a",
   "metadata": {},
   "source": [
    "### Huggingface cli login\n",
    "\n",
    "to get your token, log in to your account and go to this link: \n",
    "https://huggingface.co/settings/tokens"
   ]
  },
  {
   "cell_type": "code",
   "execution_count": null,
   "id": "2e748507-cdef-44ec-9d50-5b82441c9fb3",
   "metadata": {
    "execution": {
     "iopub.execute_input": "2023-10-27T21:15:03.934477Z",
     "iopub.status.busy": "2023-10-27T21:15:03.934199Z",
     "iopub.status.idle": "2023-10-27T21:16:35.628443Z",
     "shell.execute_reply": "2023-10-27T21:16:35.627756Z",
     "shell.execute_reply.started": "2023-10-27T21:15:03.934454Z"
    }
   },
   "outputs": [],
   "source": [
    "# Login to huggingface cli\n",
    "!python login.py --token <your_huggingface_token>\n",
    "\n"
   ]
  },
  {
   "cell_type": "markdown",
   "id": "db704e39-a861-45a7-bb7d-029ae7032200",
   "metadata": {},
   "source": [
    "# Run the application"
   ]
  },
  {
   "cell_type": "code",
   "execution_count": 11,
   "id": "cd1e1716-2966-454b-af31-8bc6e22af3b1",
   "metadata": {
    "execution": {
     "iopub.execute_input": "2023-10-27T19:47:06.578816Z",
     "iopub.status.busy": "2023-10-27T19:47:06.578134Z",
     "iopub.status.idle": "2023-10-27T21:14:56.777610Z",
     "shell.execute_reply": "2023-10-27T21:14:56.776887Z",
     "shell.execute_reply.started": "2023-10-27T19:47:06.578785Z"
    }
   },
   "outputs": [
    {
     "name": "stdout",
     "output_type": "stream",
     "text": [
      "/usr/local/lib/python3.9/dist-packages/diffusers/pipelines/pipeline_utils.py:1369: FutureWarning: You are trying to load the model files of the `variant=fp16`, but no such modeling files are available.The default model files: {'unet/diffusion_pytorch_model.bin', 'text_encoder/pytorch_model.bin.index.json', 'text_encoder/pytorch_model-00001-of-00002.bin', 'text_encoder/pytorch_model-00002-of-00002.bin'} will be loaded instead. Make sure to not load from `variant=fp16`if such variant modeling files are not available. Doing so will lead to an error in v0.22.0 as defaulting to non-variantmodeling files is deprecated.\n",
      "  deprecate(\"no variant default\", \"0.22.0\", deprecation_message, standard_warn=False)\n",
      "unet/diffusion_pytorch_model.safetensors not found\n",
      "Loading pipeline components...:   0%|                     | 0/5 [00:00<?, ?it/s]\n",
      "Loading checkpoint shards:   0%|                          | 0/2 [00:00<?, ?it/s]\u001b[A\n",
      "Loading checkpoint shards:  50%|█████████         | 1/2 [00:05<00:05,  5.80s/it]\u001b[A\n",
      "Loading checkpoint shards: 100%|██████████████████| 2/2 [00:11<00:00,  5.79s/it]\u001b[A\n",
      "Loading pipeline components...: 100%|█████████████| 5/5 [00:13<00:00,  2.75s/it]\n",
      "unet/diffusion_pytorch_model.safetensors not found\n",
      "Loading pipeline components...: 100%|█████████████| 4/4 [00:02<00:00,  1.93it/s]\n",
      "\n",
      "A mixture of fp16 and non-fp16 filenames will be loaded.\n",
      "Loaded fp16 filenames:\n",
      "[text_encoder/model.fp16-00002-of-00002.safetensors, safety_checker/model.fp16.safetensors, unet/diffusion_pytorch_model.fp16.safetensors, text_encoder/model.fp16-00001-of-00002.safetensors]\n",
      "Loaded non-fp16 filenames:\n",
      "[watermarker/diffusion_pytorch_model.safetensors\n",
      "If this behavior is not expected, please check your folder structure.\n",
      "Loading pipeline components...:  43%|█████▌       | 3/7 [00:00<00:00, 19.92it/s]`text_config_dict` is provided which will be used to initialize `CLIPTextConfig`. The value `text_config[\"id2label\"]` will be overriden.\n",
      "Loading pipeline components...: 100%|█████████████| 7/7 [00:00<00:00, 13.11it/s]\n",
      "unet/diffusion_pytorch_model.safetensors not found\n",
      "Loading pipeline components...: 100%|█████████████| 5/5 [00:01<00:00,  4.21it/s]\n",
      "unet/diffusion_pytorch_model.safetensors not found\n",
      "Loading pipeline components...: 100%|█████████████| 5/5 [00:03<00:00,  1.66it/s]\n",
      "Running on local URL:  http://127.0.0.1:7860\n",
      "Running on public URL: https://b663c93cd4037a5ab8.gradio.live\n",
      "\n",
      "This share link expires in 72 hours. For free permanent hosting and GPU upgrades, run `gradio deploy` from Terminal to deploy to Spaces (https://huggingface.co/spaces)\n",
      "Cats eating ice cream\n",
      "100%|███████████████████████████████████████████| 75/75 [00:16<00:00,  4.69it/s]\n",
      "100%|███████████████████████████████████████████| 50/50 [00:08<00:00,  6.05it/s]\n",
      "100%|███████████████████████████████████████████| 50/50 [00:08<00:00,  6.23it/s]\n",
      "100%|███████████████████████████████████████████| 50/50 [00:07<00:00,  6.36it/s]\n",
      "100%|███████████████████████████████████████████| 50/50 [00:07<00:00,  6.35it/s]\n",
      "100%|███████████████████████████████████████████| 50/50 [00:07<00:00,  6.37it/s]\n",
      "100%|███████████████████████████████████████████| 50/50 [00:07<00:00,  6.37it/s]\n",
      "100%|███████████████████████████████████████████| 50/50 [00:07<00:00,  6.38it/s]\n",
      "100%|███████████████████████████████████████████| 50/50 [00:06<00:00,  7.82it/s]\n",
      "100%|███████████████████████████████████████████| 50/50 [00:20<00:00,  2.43it/s]\n",
      "100%|███████████████████████████████████████████| 50/50 [00:20<00:00,  2.44it/s]\n",
      "100%|███████████████████████████████████████████| 50/50 [00:20<00:00,  2.44it/s]\n",
      "100%|███████████████████████████████████████████| 50/50 [00:20<00:00,  2.44it/s]\n",
      "100%|███████████████████████████████████████████| 40/40 [00:24<00:00,  1.65it/s]\n",
      "/tmp/tmpt1axosm5.mp4\n",
      "/usr/local/lib/python3.9/dist-packages/gradio/components/video.py:329: UserWarning: Video does not have browser-compatible container or codec. Converting to mp4\n",
      "  warnings.warn(\n",
      "Goku kamehameha energy blast out of hands\n",
      "100%|███████████████████████████████████████████| 75/75 [00:12<00:00,  5.85it/s]\n",
      "100%|███████████████████████████████████████████| 50/50 [00:07<00:00,  6.36it/s]\n",
      "100%|███████████████████████████████████████████| 50/50 [00:08<00:00,  6.24it/s]\n",
      "100%|███████████████████████████████████████████| 50/50 [00:07<00:00,  6.28it/s]\n",
      "100%|███████████████████████████████████████████| 50/50 [00:07<00:00,  6.32it/s]\n",
      "100%|███████████████████████████████████████████| 50/50 [00:07<00:00,  6.34it/s]\n",
      "100%|███████████████████████████████████████████| 50/50 [00:07<00:00,  6.35it/s]\n",
      "100%|███████████████████████████████████████████| 50/50 [00:07<00:00,  6.34it/s]\n",
      "100%|███████████████████████████████████████████| 50/50 [00:03<00:00, 12.81it/s]\n",
      "100%|███████████████████████████████████████████| 50/50 [00:20<00:00,  2.44it/s]\n",
      "100%|███████████████████████████████████████████| 50/50 [00:20<00:00,  2.43it/s]\n",
      "100%|███████████████████████████████████████████| 50/50 [00:20<00:00,  2.43it/s]\n",
      "100%|███████████████████████████████████████████| 50/50 [00:20<00:00,  2.44it/s]\n",
      "100%|███████████████████████████████████████████| 40/40 [00:24<00:00,  1.66it/s]\n",
      "/tmp/tmph021ca_c.mp4\n",
      "/usr/local/lib/python3.9/dist-packages/gradio/components/video.py:329: UserWarning: Video does not have browser-compatible container or codec. Converting to mp4\n",
      "  warnings.warn(\n",
      "Goku fighting Vegeta dragon ball z\n",
      "100%|███████████████████████████████████████████| 75/75 [00:12<00:00,  5.84it/s]\n",
      "100%|███████████████████████████████████████████| 50/50 [00:07<00:00,  6.33it/s]\n",
      "100%|███████████████████████████████████████████| 50/50 [00:07<00:00,  6.37it/s]\n",
      "100%|███████████████████████████████████████████| 50/50 [00:07<00:00,  6.39it/s]\n",
      "100%|███████████████████████████████████████████| 50/50 [00:07<00:00,  6.35it/s]\n",
      "100%|███████████████████████████████████████████| 50/50 [00:07<00:00,  6.37it/s]\n",
      "100%|███████████████████████████████████████████| 50/50 [00:07<00:00,  6.38it/s]\n",
      "100%|███████████████████████████████████████████| 50/50 [00:07<00:00,  6.38it/s]\n",
      "100%|███████████████████████████████████████████| 50/50 [00:03<00:00, 13.77it/s]\n",
      "100%|███████████████████████████████████████████| 50/50 [00:20<00:00,  2.44it/s]\n",
      "100%|███████████████████████████████████████████| 50/50 [00:20<00:00,  2.44it/s]\n",
      "100%|███████████████████████████████████████████| 50/50 [00:20<00:00,  2.43it/s]\n",
      "100%|███████████████████████████████████████████| 50/50 [00:20<00:00,  2.43it/s]\n",
      "100%|███████████████████████████████████████████| 40/40 [00:24<00:00,  1.66it/s]\n",
      "/tmp/tmptf3y4po4.mp4\n",
      "/usr/local/lib/python3.9/dist-packages/gradio/components/video.py:329: UserWarning: Video does not have browser-compatible container or codec. Converting to mp4\n",
      "  warnings.warn(\n",
      "Goku fighting Vegeta, super saiyans\n",
      "100%|███████████████████████████████████████████| 75/75 [00:12<00:00,  5.84it/s]\n",
      "100%|███████████████████████████████████████████| 50/50 [00:07<00:00,  6.34it/s]\n",
      "100%|███████████████████████████████████████████| 50/50 [00:07<00:00,  6.37it/s]\n",
      "100%|███████████████████████████████████████████| 50/50 [00:07<00:00,  6.38it/s]\n",
      "100%|███████████████████████████████████████████| 50/50 [00:07<00:00,  6.38it/s]\n",
      "100%|███████████████████████████████████████████| 50/50 [00:07<00:00,  6.35it/s]\n",
      "100%|███████████████████████████████████████████| 50/50 [00:07<00:00,  6.36it/s]\n",
      "100%|███████████████████████████████████████████| 50/50 [00:07<00:00,  6.36it/s]\n",
      "100%|███████████████████████████████████████████| 50/50 [00:03<00:00, 13.90it/s]\n",
      "100%|███████████████████████████████████████████| 50/50 [00:20<00:00,  2.44it/s]\n",
      "100%|███████████████████████████████████████████| 50/50 [00:20<00:00,  2.44it/s]\n",
      "100%|███████████████████████████████████████████| 50/50 [00:20<00:00,  2.43it/s]\n",
      "100%|███████████████████████████████████████████| 50/50 [00:20<00:00,  2.42it/s]\n",
      "100%|███████████████████████████████████████████| 40/40 [00:24<00:00,  1.66it/s]\n",
      "/tmp/tmp_jq2i1bo.mp4\n",
      "/usr/local/lib/python3.9/dist-packages/gradio/components/video.py:329: UserWarning: Video does not have browser-compatible container or codec. Converting to mp4\n",
      "  warnings.warn(\n",
      "a robot shakes a mans hand\n",
      "100%|███████████████████████████████████████████| 75/75 [00:12<00:00,  5.84it/s]\n",
      "100%|███████████████████████████████████████████| 50/50 [00:07<00:00,  6.37it/s]\n",
      "100%|███████████████████████████████████████████| 50/50 [00:07<00:00,  6.38it/s]\n",
      "100%|███████████████████████████████████████████| 50/50 [00:07<00:00,  6.38it/s]\n",
      "100%|███████████████████████████████████████████| 50/50 [00:07<00:00,  6.36it/s]\n",
      "100%|███████████████████████████████████████████| 50/50 [00:07<00:00,  6.37it/s]\n",
      "100%|███████████████████████████████████████████| 50/50 [00:07<00:00,  6.37it/s]\n",
      "100%|███████████████████████████████████████████| 50/50 [00:07<00:00,  6.34it/s]\n",
      "100%|███████████████████████████████████████████| 50/50 [00:03<00:00, 13.86it/s]\n",
      "100%|███████████████████████████████████████████| 50/50 [00:20<00:00,  2.44it/s]\n",
      "100%|███████████████████████████████████████████| 50/50 [00:20<00:00,  2.44it/s]\n",
      "100%|███████████████████████████████████████████| 50/50 [00:20<00:00,  2.44it/s]\n",
      "100%|███████████████████████████████████████████| 50/50 [00:20<00:00,  2.43it/s]\n",
      "100%|███████████████████████████████████████████| 40/40 [00:24<00:00,  1.66it/s]\n",
      "/tmp/tmpiv_mh8jn.mp4\n",
      "/usr/local/lib/python3.9/dist-packages/gradio/components/video.py:329: UserWarning: Video does not have browser-compatible container or codec. Converting to mp4\n",
      "  warnings.warn(\n",
      "^C\n",
      "Keyboard interruption in main thread... closing server.\n",
      "Killing tunnel 127.0.0.1:7860 <> https://b663c93cd4037a5ab8.gradio.live\n"
     ]
    }
   ],
   "source": [
    "# Launch the application, be patient as it will take a few minutes to donwload the models to the HuggingFace Cache\n",
    "!python app.py"
   ]
  },
  {
   "cell_type": "code",
   "execution_count": null,
   "id": "b45af187-7b64-4689-92b5-a442ec439720",
   "metadata": {},
   "outputs": [],
   "source": []
  }
 ],
 "metadata": {
  "kernelspec": {
   "display_name": "Python 3 (ipykernel)",
   "language": "python",
   "name": "python3"
  },
  "language_info": {
   "codemirror_mode": {
    "name": "ipython",
    "version": 3
   },
   "file_extension": ".py",
   "mimetype": "text/x-python",
   "name": "python",
   "nbconvert_exporter": "python",
   "pygments_lexer": "ipython3",
   "version": "3.9.16"
  }
 },
 "nbformat": 4,
 "nbformat_minor": 5
}
